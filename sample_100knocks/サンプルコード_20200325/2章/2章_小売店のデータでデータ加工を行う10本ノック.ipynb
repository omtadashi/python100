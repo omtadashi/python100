{
 "cells": [
  {
   "cell_type": "markdown",
   "metadata": {},
   "source": [
    "# ２章　小売店のデータでデータ加工を行う１０本ノック\n",
    "\n",
    "本章では、ある小売店の売上履歴と顧客台帳データを用いて、データ分析の素地となる「データの加工」を習得することが目的です。\n",
    "実際の現場データは手入力のExcel等、決して綺麗なデータではない事が多いため、\n",
    "データの揺れや整合性の担保など、汚いデータを取り扱うデータ加工を主体に進めて行きます。"
   ]
  },
  {
   "cell_type": "markdown",
   "metadata": {},
   "source": [
    "### ノック１１：データを読み込んでみよう"
   ]
  },
  {
   "cell_type": "code",
   "execution_count": 2,
   "metadata": {
    "scrolled": false
   },
   "outputs": [
    {
     "output_type": "execute_result",
     "data": {
      "text/plain": "         purchase_date item_name  item_price customer_name\n0  2019-06-13 18:02:34       商品A       100.0         深井菜々美\n1  2019-07-13 13:05:29     商 品 S         NaN          浅田賢二\n2  2019-05-11 19:42:07     商 品 a         NaN          南部慶二\n3  2019-02-12 23:40:45       商品Z      2600.0          麻生莉緒\n4  2019-04-22 03:09:35       商品a         NaN          平田鉄二",
      "text/html": "<div>\n<style scoped>\n    .dataframe tbody tr th:only-of-type {\n        vertical-align: middle;\n    }\n\n    .dataframe tbody tr th {\n        vertical-align: top;\n    }\n\n    .dataframe thead th {\n        text-align: right;\n    }\n</style>\n<table border=\"1\" class=\"dataframe\">\n  <thead>\n    <tr style=\"text-align: right;\">\n      <th></th>\n      <th>purchase_date</th>\n      <th>item_name</th>\n      <th>item_price</th>\n      <th>customer_name</th>\n    </tr>\n  </thead>\n  <tbody>\n    <tr>\n      <th>0</th>\n      <td>2019-06-13 18:02:34</td>\n      <td>商品A</td>\n      <td>100.0</td>\n      <td>深井菜々美</td>\n    </tr>\n    <tr>\n      <th>1</th>\n      <td>2019-07-13 13:05:29</td>\n      <td>商 品 S</td>\n      <td>NaN</td>\n      <td>浅田賢二</td>\n    </tr>\n    <tr>\n      <th>2</th>\n      <td>2019-05-11 19:42:07</td>\n      <td>商 品 a</td>\n      <td>NaN</td>\n      <td>南部慶二</td>\n    </tr>\n    <tr>\n      <th>3</th>\n      <td>2019-02-12 23:40:45</td>\n      <td>商品Z</td>\n      <td>2600.0</td>\n      <td>麻生莉緒</td>\n    </tr>\n    <tr>\n      <th>4</th>\n      <td>2019-04-22 03:09:35</td>\n      <td>商品a</td>\n      <td>NaN</td>\n      <td>平田鉄二</td>\n    </tr>\n  </tbody>\n</table>\n</div>"
     },
     "metadata": {},
     "execution_count": 2
    }
   ],
   "source": [
    "import pandas as pd\n",
    "uriage_data = pd.read_csv(\"uriage.csv\")\n",
    "uriage_data.head()"
   ]
  },
  {
   "cell_type": "code",
   "execution_count": 11,
   "metadata": {
    "scrolled": false
   },
   "outputs": [
    {
     "output_type": "execute_result",
     "data": {
      "text/plain": "      顧客名        かな  地域                     メールアドレス         登録日\n0   須賀ひとみ    すが ひとみ  H市     suga_hitomi@example.com  2018/01/04\n1  岡田　 敏也   おかだ としや  E市   okada_toshiya@example.com       42782\n2    芳賀 希    はが のぞみ  A市     haga_nozomi@example.com  2018/01/07\n3   荻野  愛    おぎの あい  F市        ogino_ai@example.com       42872\n4   栗田 憲一  くりた けんいち  E市  kurita_kenichi@example.com       43127",
      "text/html": "<div>\n<style scoped>\n    .dataframe tbody tr th:only-of-type {\n        vertical-align: middle;\n    }\n\n    .dataframe tbody tr th {\n        vertical-align: top;\n    }\n\n    .dataframe thead th {\n        text-align: right;\n    }\n</style>\n<table border=\"1\" class=\"dataframe\">\n  <thead>\n    <tr style=\"text-align: right;\">\n      <th></th>\n      <th>顧客名</th>\n      <th>かな</th>\n      <th>地域</th>\n      <th>メールアドレス</th>\n      <th>登録日</th>\n    </tr>\n  </thead>\n  <tbody>\n    <tr>\n      <th>0</th>\n      <td>須賀ひとみ</td>\n      <td>すが ひとみ</td>\n      <td>H市</td>\n      <td>suga_hitomi@example.com</td>\n      <td>2018/01/04</td>\n    </tr>\n    <tr>\n      <th>1</th>\n      <td>岡田　 敏也</td>\n      <td>おかだ としや</td>\n      <td>E市</td>\n      <td>okada_toshiya@example.com</td>\n      <td>42782</td>\n    </tr>\n    <tr>\n      <th>2</th>\n      <td>芳賀 希</td>\n      <td>はが のぞみ</td>\n      <td>A市</td>\n      <td>haga_nozomi@example.com</td>\n      <td>2018/01/07</td>\n    </tr>\n    <tr>\n      <th>3</th>\n      <td>荻野  愛</td>\n      <td>おぎの あい</td>\n      <td>F市</td>\n      <td>ogino_ai@example.com</td>\n      <td>42872</td>\n    </tr>\n    <tr>\n      <th>4</th>\n      <td>栗田 憲一</td>\n      <td>くりた けんいち</td>\n      <td>E市</td>\n      <td>kurita_kenichi@example.com</td>\n      <td>43127</td>\n    </tr>\n  </tbody>\n</table>\n</div>"
     },
     "metadata": {},
     "execution_count": 11
    }
   ],
   "source": [
    "kokyaku_data = pd.read_excel(\"kokyaku_daicho.xlsx\")\n",
    "kokyaku_data.head()"
   ]
  },
  {
   "cell_type": "markdown",
   "metadata": {},
   "source": [
    "### ノック１２：データの揺れを見てみよう"
   ]
  },
  {
   "cell_type": "code",
   "execution_count": 12,
   "metadata": {
    "scrolled": false
   },
   "outputs": [
    {
     "output_type": "execute_result",
     "data": {
      "text/plain": "0      商品A\n1    商 品 S\n2    商 品 a\n3      商品Z\n4      商品a\nName: item_name, dtype: object"
     },
     "metadata": {},
     "execution_count": 12
    }
   ],
   "source": [
    "uriage_data[\"item_name\"].head()"
   ]
  },
  {
   "cell_type": "code",
   "execution_count": null,
   "metadata": {},
   "outputs": [],
   "source": []
  },
  {
   "cell_type": "code",
   "execution_count": null,
   "metadata": {
    "scrolled": false
   },
   "outputs": [],
   "source": []
  },
  {
   "cell_type": "markdown",
   "metadata": {},
   "source": [
    "### ノック１３：データに揺れがあるまま集計しよう"
   ]
  },
  {
   "cell_type": "code",
   "execution_count": 14,
   "metadata": {
    "scrolled": false
   },
   "outputs": [
    {
     "output_type": "execute_result",
     "data": {
      "text/plain": "item_name         商品W   商 品 n   商品E   商品M   商品P   商品S   商品W   商品X  商  品O  \\\npurchase_month                                                             \n201901              0       1     0     0     0     0     0     0      0   \n201902              0       0     0     0     0     0     0     1      0   \n201903              0       0     1     1     1     0     0     0      0   \n201904              1       0     0     0     0     0     0     0      0   \n201905              0       0     0     0     0     1     0     0      0   \n201906              0       0     0     0     0     0     1     0      0   \n201907              0       0     0     0     0     0     0     0      1   \n\nitem_name       商  品Q  ...  商品k  商品l  商品o  商品p  商品r  商品s  商品t  商品v  商品x  商品y  \npurchase_month         ...                                                    \n201901              0  ...    1    1    1    0    0    0    0    0    0    0  \n201902              0  ...    0    0    0    0    0    1    1    1    0    0  \n201903              0  ...    0    0    0    0    0    0    0    0    0    0  \n201904              1  ...    0    0    0    0    0    1    0    0    0    0  \n201905              0  ...    0    1    0    0    0    0    0    0    0    1  \n201906              0  ...    0    0    0    1    0    0    0    0    1    0  \n201907              0  ...    0    0    1    0    2    0    0    0    0    0  \n\n[7 rows x 99 columns]",
      "text/html": "<div>\n<style scoped>\n    .dataframe tbody tr th:only-of-type {\n        vertical-align: middle;\n    }\n\n    .dataframe tbody tr th {\n        vertical-align: top;\n    }\n\n    .dataframe thead th {\n        text-align: right;\n    }\n</style>\n<table border=\"1\" class=\"dataframe\">\n  <thead>\n    <tr style=\"text-align: right;\">\n      <th>item_name</th>\n      <th>商品W</th>\n      <th>商 品 n</th>\n      <th>商品E</th>\n      <th>商品M</th>\n      <th>商品P</th>\n      <th>商品S</th>\n      <th>商品W</th>\n      <th>商品X</th>\n      <th>商  品O</th>\n      <th>商  品Q</th>\n      <th>...</th>\n      <th>商品k</th>\n      <th>商品l</th>\n      <th>商品o</th>\n      <th>商品p</th>\n      <th>商品r</th>\n      <th>商品s</th>\n      <th>商品t</th>\n      <th>商品v</th>\n      <th>商品x</th>\n      <th>商品y</th>\n    </tr>\n    <tr>\n      <th>purchase_month</th>\n      <th></th>\n      <th></th>\n      <th></th>\n      <th></th>\n      <th></th>\n      <th></th>\n      <th></th>\n      <th></th>\n      <th></th>\n      <th></th>\n      <th></th>\n      <th></th>\n      <th></th>\n      <th></th>\n      <th></th>\n      <th></th>\n      <th></th>\n      <th></th>\n      <th></th>\n      <th></th>\n      <th></th>\n    </tr>\n  </thead>\n  <tbody>\n    <tr>\n      <th>201901</th>\n      <td>0</td>\n      <td>1</td>\n      <td>0</td>\n      <td>0</td>\n      <td>0</td>\n      <td>0</td>\n      <td>0</td>\n      <td>0</td>\n      <td>0</td>\n      <td>0</td>\n      <td>...</td>\n      <td>1</td>\n      <td>1</td>\n      <td>1</td>\n      <td>0</td>\n      <td>0</td>\n      <td>0</td>\n      <td>0</td>\n      <td>0</td>\n      <td>0</td>\n      <td>0</td>\n    </tr>\n    <tr>\n      <th>201902</th>\n      <td>0</td>\n      <td>0</td>\n      <td>0</td>\n      <td>0</td>\n      <td>0</td>\n      <td>0</td>\n      <td>0</td>\n      <td>1</td>\n      <td>0</td>\n      <td>0</td>\n      <td>...</td>\n      <td>0</td>\n      <td>0</td>\n      <td>0</td>\n      <td>0</td>\n      <td>0</td>\n      <td>1</td>\n      <td>1</td>\n      <td>1</td>\n      <td>0</td>\n      <td>0</td>\n    </tr>\n    <tr>\n      <th>201903</th>\n      <td>0</td>\n      <td>0</td>\n      <td>1</td>\n      <td>1</td>\n      <td>1</td>\n      <td>0</td>\n      <td>0</td>\n      <td>0</td>\n      <td>0</td>\n      <td>0</td>\n      <td>...</td>\n      <td>0</td>\n      <td>0</td>\n      <td>0</td>\n      <td>0</td>\n      <td>0</td>\n      <td>0</td>\n      <td>0</td>\n      <td>0</td>\n      <td>0</td>\n      <td>0</td>\n    </tr>\n    <tr>\n      <th>201904</th>\n      <td>1</td>\n      <td>0</td>\n      <td>0</td>\n      <td>0</td>\n      <td>0</td>\n      <td>0</td>\n      <td>0</td>\n      <td>0</td>\n      <td>0</td>\n      <td>1</td>\n      <td>...</td>\n      <td>0</td>\n      <td>0</td>\n      <td>0</td>\n      <td>0</td>\n      <td>0</td>\n      <td>1</td>\n      <td>0</td>\n      <td>0</td>\n      <td>0</td>\n      <td>0</td>\n    </tr>\n    <tr>\n      <th>201905</th>\n      <td>0</td>\n      <td>0</td>\n      <td>0</td>\n      <td>0</td>\n      <td>0</td>\n      <td>1</td>\n      <td>0</td>\n      <td>0</td>\n      <td>0</td>\n      <td>0</td>\n      <td>...</td>\n      <td>0</td>\n      <td>1</td>\n      <td>0</td>\n      <td>0</td>\n      <td>0</td>\n      <td>0</td>\n      <td>0</td>\n      <td>0</td>\n      <td>0</td>\n      <td>1</td>\n    </tr>\n    <tr>\n      <th>201906</th>\n      <td>0</td>\n      <td>0</td>\n      <td>0</td>\n      <td>0</td>\n      <td>0</td>\n      <td>0</td>\n      <td>1</td>\n      <td>0</td>\n      <td>0</td>\n      <td>0</td>\n      <td>...</td>\n      <td>0</td>\n      <td>0</td>\n      <td>0</td>\n      <td>1</td>\n      <td>0</td>\n      <td>0</td>\n      <td>0</td>\n      <td>0</td>\n      <td>1</td>\n      <td>0</td>\n    </tr>\n    <tr>\n      <th>201907</th>\n      <td>0</td>\n      <td>0</td>\n      <td>0</td>\n      <td>0</td>\n      <td>0</td>\n      <td>0</td>\n      <td>0</td>\n      <td>0</td>\n      <td>1</td>\n      <td>0</td>\n      <td>...</td>\n      <td>0</td>\n      <td>0</td>\n      <td>1</td>\n      <td>0</td>\n      <td>2</td>\n      <td>0</td>\n      <td>0</td>\n      <td>0</td>\n      <td>0</td>\n      <td>0</td>\n    </tr>\n  </tbody>\n</table>\n<p>7 rows × 99 columns</p>\n</div>"
     },
     "metadata": {},
     "execution_count": 14
    }
   ],
   "source": [
    "uriage_data[\"purchase_date\"] = pd.to_datetime(uriage_data[\"purchase_date\"])\n",
    "uriage_data[\"purchase_month\"] = uriage_data[\"purchase_date\"].dt.strftime(\"%Y%m\")\n",
    "res = uriage_data.pivot_table(index=\"purchase_month\", columns= \"item_name\", aggfunc= \"size\",fill_value=0)\n",
    "res"
   ]
  },
  {
   "cell_type": "code",
   "execution_count": null,
   "metadata": {},
   "outputs": [],
   "source": []
  },
  {
   "cell_type": "markdown",
   "metadata": {},
   "source": [
    "### ノック１４：商品名の揺れを補正しよう"
   ]
  },
  {
   "cell_type": "code",
   "execution_count": 15,
   "metadata": {},
   "outputs": [
    {
     "output_type": "stream",
     "name": "stdout",
     "text": "99\n"
    }
   ],
   "source": [
    "print(len(pd.unique(uriage_data.item_name)))"
   ]
  },
  {
   "cell_type": "code",
   "execution_count": 16,
   "metadata": {
    "scrolled": false
   },
   "outputs": [
    {
     "output_type": "execute_result",
     "data": {
      "text/plain": "           purchase_date item_name  item_price customer_name purchase_month\n0    2019-06-13 18:02:34       商品A       100.0         深井菜々美         201906\n1748 2019-05-19 20:22:22       商品A       100.0          松川綾女         201905\n223  2019-06-25 08:13:20       商品A       100.0           板橋隆         201906\n1742 2019-06-13 16:03:17       商品A       100.0          小平陽子         201906\n1738 2019-02-10 00:28:43       商品A       100.0          松田浩正         201902\n1721 2019-02-24 19:18:05       商品A       100.0           楠哲平         201902\n1708 2019-03-27 17:10:06       商品A       100.0          西脇礼子         201903\n1707 2019-03-25 21:42:02       商品A       100.0          浅見広司         201903\n234  2019-03-23 09:32:03       商品A       100.0         赤木だん吉         201903\n1684 2019-02-17 20:25:57       商品A       100.0          手塚雅之         201902\n497  2019-02-11 03:54:57       商品A       100.0           堀江佑         201902\n1761 2019-05-04 14:44:55       商品A       100.0          八木雅彦         201905\n1658 2019-03-23 20:08:49       商品A       100.0          片瀬長利         201903\n1544 2019-01-21 11:49:01       商品A       100.0           藤広之         201901\n1513 2019-04-04 18:58:05       商品A       100.0          河村由樹         201904\n1500 2019-02-28 17:25:59       商品A       100.0          赤木愛梨         201902\n1498 2019-01-19 12:15:21       商品A       100.0            今茜         201901\n1481 2019-03-10 03:52:24       商品A       100.0         石川まさみ         201903\n1474 2019-04-11 02:22:17       商品A         NaN          堀北雅彦         201904\n274  2019-07-27 01:45:18       商品A       100.0          佐藤慶二         201907\n1454 2019-01-16 07:35:54       商品A       100.0          平田鉄二         201901\n1398 2019-06-13 02:20:26       商品A       100.0          高沢美咲         201906\n1394 2019-07-07 21:49:14       商品A         NaN           楠哲平         201907\n1576 2019-05-06 02:40:03       商品A       100.0           楠哲平         201905\n211  2019-02-12 02:52:39       商品A       100.0          日野夏希         201902\n210  2019-07-08 04:17:01       商品A       100.0          平田鉄二         201907\n1835 2019-06-20 12:57:54       商品A       100.0          古川信吾         201906\n2384 2019-04-27 02:50:16       商品A       100.0            林勇         201904\n117  2019-06-14 09:08:17       商品A       100.0         深井菜々美         201906\n2352 2019-07-28 07:55:39       商品A       100.0          矢部夏空         201907\n...                  ...       ...         ...           ...            ...\n214  2019-06-02 01:01:30       商品Y      2500.0           大山咲         201906\n707  2019-02-08 19:17:58       商品Y      2500.0          戸塚美幸         201902\n2123 2019-06-19 14:40:25       商品Y         NaN          岩沢那奈         201906\n2909 2019-04-27 21:33:34       商品Y      2500.0           横田遥         201904\n2910 2019-05-16 07:16:37       商品Y      2500.0          松田浩正         201905\n702  2019-06-20 19:09:02       商品Y      2500.0          亀井一徳         201906\n198  2019-04-13 13:05:25       商品Y      2500.0          杉下悟志         201904\n689  2019-05-24 17:03:58       商品Y      2500.0          矢部美幸         201905\n1571 2019-05-10 17:54:12       商品Y         NaN          梅津淳子         201905\n833  2019-07-29 11:07:10       商品Y      2500.0           大山咲         201907\n743  2019-06-09 04:18:56       商品Y      2500.0          福本美幸         201906\n26   2019-05-16 04:45:21       商品Y      2500.0          明石家明         201905\n2857 2019-06-13 22:19:16       商品Y      2500.0        田辺きみまろ         201906\n2446 2019-03-30 18:50:18       商品Y         NaN          梅村秀樹         201903\n2679 2019-05-04 13:03:40       商品Y      2500.0          藤木一恵         201905\n1882 2019-07-31 16:58:12       商品Y         NaN         五十嵐春樹         201907\n805  2019-07-29 07:17:05       商品Y      2500.0          島孝太郎         201907\n2452 2019-05-01 17:42:48       商品Y      2500.0          神原美嘉         201905\n2889 2019-06-14 10:11:12       商品Y      2500.0          小松季衣         201906\n1732 2019-02-20 05:22:25       商品Y         NaN         河内さとみ         201902\n2090 2019-06-13 07:18:45       商品Y      2500.0        大城ケンイチ         201906\n2100 2019-02-27 01:24:20       商品Y      2500.0          石渡小雁         201902\n1878 2019-01-29 13:58:57       商品Y      2500.0         西原未華子         201901\n2527 2019-05-17 18:15:27       商品Y      2500.0           松村聡         201905\n2526 2019-05-26 10:26:28       商品Y      2500.0           島英嗣         201905\n2880 2019-04-22 00:36:52       商品Y         NaN          田辺光洋         201904\n2881 2019-04-30 14:21:09       商品Y         NaN          高原充則         201904\n1525 2019-01-24 10:27:23       商品Y      2500.0         五十嵐春樹         201901\n1361 2019-05-28 13:45:32       商品Y      2500.0         大崎ヒカル         201905\n3    2019-02-12 23:40:45       商品Z      2600.0          麻生莉緒         201902\n\n[2999 rows x 5 columns]",
      "text/html": "<div>\n<style scoped>\n    .dataframe tbody tr th:only-of-type {\n        vertical-align: middle;\n    }\n\n    .dataframe tbody tr th {\n        vertical-align: top;\n    }\n\n    .dataframe thead th {\n        text-align: right;\n    }\n</style>\n<table border=\"1\" class=\"dataframe\">\n  <thead>\n    <tr style=\"text-align: right;\">\n      <th></th>\n      <th>purchase_date</th>\n      <th>item_name</th>\n      <th>item_price</th>\n      <th>customer_name</th>\n      <th>purchase_month</th>\n    </tr>\n  </thead>\n  <tbody>\n    <tr>\n      <th>0</th>\n      <td>2019-06-13 18:02:34</td>\n      <td>商品A</td>\n      <td>100.0</td>\n      <td>深井菜々美</td>\n      <td>201906</td>\n    </tr>\n    <tr>\n      <th>1748</th>\n      <td>2019-05-19 20:22:22</td>\n      <td>商品A</td>\n      <td>100.0</td>\n      <td>松川綾女</td>\n      <td>201905</td>\n    </tr>\n    <tr>\n      <th>223</th>\n      <td>2019-06-25 08:13:20</td>\n      <td>商品A</td>\n      <td>100.0</td>\n      <td>板橋隆</td>\n      <td>201906</td>\n    </tr>\n    <tr>\n      <th>1742</th>\n      <td>2019-06-13 16:03:17</td>\n      <td>商品A</td>\n      <td>100.0</td>\n      <td>小平陽子</td>\n      <td>201906</td>\n    </tr>\n    <tr>\n      <th>1738</th>\n      <td>2019-02-10 00:28:43</td>\n      <td>商品A</td>\n      <td>100.0</td>\n      <td>松田浩正</td>\n      <td>201902</td>\n    </tr>\n    <tr>\n      <th>1721</th>\n      <td>2019-02-24 19:18:05</td>\n      <td>商品A</td>\n      <td>100.0</td>\n      <td>楠哲平</td>\n      <td>201902</td>\n    </tr>\n    <tr>\n      <th>1708</th>\n      <td>2019-03-27 17:10:06</td>\n      <td>商品A</td>\n      <td>100.0</td>\n      <td>西脇礼子</td>\n      <td>201903</td>\n    </tr>\n    <tr>\n      <th>1707</th>\n      <td>2019-03-25 21:42:02</td>\n      <td>商品A</td>\n      <td>100.0</td>\n      <td>浅見広司</td>\n      <td>201903</td>\n    </tr>\n    <tr>\n      <th>234</th>\n      <td>2019-03-23 09:32:03</td>\n      <td>商品A</td>\n      <td>100.0</td>\n      <td>赤木だん吉</td>\n      <td>201903</td>\n    </tr>\n    <tr>\n      <th>1684</th>\n      <td>2019-02-17 20:25:57</td>\n      <td>商品A</td>\n      <td>100.0</td>\n      <td>手塚雅之</td>\n      <td>201902</td>\n    </tr>\n    <tr>\n      <th>497</th>\n      <td>2019-02-11 03:54:57</td>\n      <td>商品A</td>\n      <td>100.0</td>\n      <td>堀江佑</td>\n      <td>201902</td>\n    </tr>\n    <tr>\n      <th>1761</th>\n      <td>2019-05-04 14:44:55</td>\n      <td>商品A</td>\n      <td>100.0</td>\n      <td>八木雅彦</td>\n      <td>201905</td>\n    </tr>\n    <tr>\n      <th>1658</th>\n      <td>2019-03-23 20:08:49</td>\n      <td>商品A</td>\n      <td>100.0</td>\n      <td>片瀬長利</td>\n      <td>201903</td>\n    </tr>\n    <tr>\n      <th>1544</th>\n      <td>2019-01-21 11:49:01</td>\n      <td>商品A</td>\n      <td>100.0</td>\n      <td>藤広之</td>\n      <td>201901</td>\n    </tr>\n    <tr>\n      <th>1513</th>\n      <td>2019-04-04 18:58:05</td>\n      <td>商品A</td>\n      <td>100.0</td>\n      <td>河村由樹</td>\n      <td>201904</td>\n    </tr>\n    <tr>\n      <th>1500</th>\n      <td>2019-02-28 17:25:59</td>\n      <td>商品A</td>\n      <td>100.0</td>\n      <td>赤木愛梨</td>\n      <td>201902</td>\n    </tr>\n    <tr>\n      <th>1498</th>\n      <td>2019-01-19 12:15:21</td>\n      <td>商品A</td>\n      <td>100.0</td>\n      <td>今茜</td>\n      <td>201901</td>\n    </tr>\n    <tr>\n      <th>1481</th>\n      <td>2019-03-10 03:52:24</td>\n      <td>商品A</td>\n      <td>100.0</td>\n      <td>石川まさみ</td>\n      <td>201903</td>\n    </tr>\n    <tr>\n      <th>1474</th>\n      <td>2019-04-11 02:22:17</td>\n      <td>商品A</td>\n      <td>NaN</td>\n      <td>堀北雅彦</td>\n      <td>201904</td>\n    </tr>\n    <tr>\n      <th>274</th>\n      <td>2019-07-27 01:45:18</td>\n      <td>商品A</td>\n      <td>100.0</td>\n      <td>佐藤慶二</td>\n      <td>201907</td>\n    </tr>\n    <tr>\n      <th>1454</th>\n      <td>2019-01-16 07:35:54</td>\n      <td>商品A</td>\n      <td>100.0</td>\n      <td>平田鉄二</td>\n      <td>201901</td>\n    </tr>\n    <tr>\n      <th>1398</th>\n      <td>2019-06-13 02:20:26</td>\n      <td>商品A</td>\n      <td>100.0</td>\n      <td>高沢美咲</td>\n      <td>201906</td>\n    </tr>\n    <tr>\n      <th>1394</th>\n      <td>2019-07-07 21:49:14</td>\n      <td>商品A</td>\n      <td>NaN</td>\n      <td>楠哲平</td>\n      <td>201907</td>\n    </tr>\n    <tr>\n      <th>1576</th>\n      <td>2019-05-06 02:40:03</td>\n      <td>商品A</td>\n      <td>100.0</td>\n      <td>楠哲平</td>\n      <td>201905</td>\n    </tr>\n    <tr>\n      <th>211</th>\n      <td>2019-02-12 02:52:39</td>\n      <td>商品A</td>\n      <td>100.0</td>\n      <td>日野夏希</td>\n      <td>201902</td>\n    </tr>\n    <tr>\n      <th>210</th>\n      <td>2019-07-08 04:17:01</td>\n      <td>商品A</td>\n      <td>100.0</td>\n      <td>平田鉄二</td>\n      <td>201907</td>\n    </tr>\n    <tr>\n      <th>1835</th>\n      <td>2019-06-20 12:57:54</td>\n      <td>商品A</td>\n      <td>100.0</td>\n      <td>古川信吾</td>\n      <td>201906</td>\n    </tr>\n    <tr>\n      <th>2384</th>\n      <td>2019-04-27 02:50:16</td>\n      <td>商品A</td>\n      <td>100.0</td>\n      <td>林勇</td>\n      <td>201904</td>\n    </tr>\n    <tr>\n      <th>117</th>\n      <td>2019-06-14 09:08:17</td>\n      <td>商品A</td>\n      <td>100.0</td>\n      <td>深井菜々美</td>\n      <td>201906</td>\n    </tr>\n    <tr>\n      <th>2352</th>\n      <td>2019-07-28 07:55:39</td>\n      <td>商品A</td>\n      <td>100.0</td>\n      <td>矢部夏空</td>\n      <td>201907</td>\n    </tr>\n    <tr>\n      <th>...</th>\n      <td>...</td>\n      <td>...</td>\n      <td>...</td>\n      <td>...</td>\n      <td>...</td>\n    </tr>\n    <tr>\n      <th>214</th>\n      <td>2019-06-02 01:01:30</td>\n      <td>商品Y</td>\n      <td>2500.0</td>\n      <td>大山咲</td>\n      <td>201906</td>\n    </tr>\n    <tr>\n      <th>707</th>\n      <td>2019-02-08 19:17:58</td>\n      <td>商品Y</td>\n      <td>2500.0</td>\n      <td>戸塚美幸</td>\n      <td>201902</td>\n    </tr>\n    <tr>\n      <th>2123</th>\n      <td>2019-06-19 14:40:25</td>\n      <td>商品Y</td>\n      <td>NaN</td>\n      <td>岩沢那奈</td>\n      <td>201906</td>\n    </tr>\n    <tr>\n      <th>2909</th>\n      <td>2019-04-27 21:33:34</td>\n      <td>商品Y</td>\n      <td>2500.0</td>\n      <td>横田遥</td>\n      <td>201904</td>\n    </tr>\n    <tr>\n      <th>2910</th>\n      <td>2019-05-16 07:16:37</td>\n      <td>商品Y</td>\n      <td>2500.0</td>\n      <td>松田浩正</td>\n      <td>201905</td>\n    </tr>\n    <tr>\n      <th>702</th>\n      <td>2019-06-20 19:09:02</td>\n      <td>商品Y</td>\n      <td>2500.0</td>\n      <td>亀井一徳</td>\n      <td>201906</td>\n    </tr>\n    <tr>\n      <th>198</th>\n      <td>2019-04-13 13:05:25</td>\n      <td>商品Y</td>\n      <td>2500.0</td>\n      <td>杉下悟志</td>\n      <td>201904</td>\n    </tr>\n    <tr>\n      <th>689</th>\n      <td>2019-05-24 17:03:58</td>\n      <td>商品Y</td>\n      <td>2500.0</td>\n      <td>矢部美幸</td>\n      <td>201905</td>\n    </tr>\n    <tr>\n      <th>1571</th>\n      <td>2019-05-10 17:54:12</td>\n      <td>商品Y</td>\n      <td>NaN</td>\n      <td>梅津淳子</td>\n      <td>201905</td>\n    </tr>\n    <tr>\n      <th>833</th>\n      <td>2019-07-29 11:07:10</td>\n      <td>商品Y</td>\n      <td>2500.0</td>\n      <td>大山咲</td>\n      <td>201907</td>\n    </tr>\n    <tr>\n      <th>743</th>\n      <td>2019-06-09 04:18:56</td>\n      <td>商品Y</td>\n      <td>2500.0</td>\n      <td>福本美幸</td>\n      <td>201906</td>\n    </tr>\n    <tr>\n      <th>26</th>\n      <td>2019-05-16 04:45:21</td>\n      <td>商品Y</td>\n      <td>2500.0</td>\n      <td>明石家明</td>\n      <td>201905</td>\n    </tr>\n    <tr>\n      <th>2857</th>\n      <td>2019-06-13 22:19:16</td>\n      <td>商品Y</td>\n      <td>2500.0</td>\n      <td>田辺きみまろ</td>\n      <td>201906</td>\n    </tr>\n    <tr>\n      <th>2446</th>\n      <td>2019-03-30 18:50:18</td>\n      <td>商品Y</td>\n      <td>NaN</td>\n      <td>梅村秀樹</td>\n      <td>201903</td>\n    </tr>\n    <tr>\n      <th>2679</th>\n      <td>2019-05-04 13:03:40</td>\n      <td>商品Y</td>\n      <td>2500.0</td>\n      <td>藤木一恵</td>\n      <td>201905</td>\n    </tr>\n    <tr>\n      <th>1882</th>\n      <td>2019-07-31 16:58:12</td>\n      <td>商品Y</td>\n      <td>NaN</td>\n      <td>五十嵐春樹</td>\n      <td>201907</td>\n    </tr>\n    <tr>\n      <th>805</th>\n      <td>2019-07-29 07:17:05</td>\n      <td>商品Y</td>\n      <td>2500.0</td>\n      <td>島孝太郎</td>\n      <td>201907</td>\n    </tr>\n    <tr>\n      <th>2452</th>\n      <td>2019-05-01 17:42:48</td>\n      <td>商品Y</td>\n      <td>2500.0</td>\n      <td>神原美嘉</td>\n      <td>201905</td>\n    </tr>\n    <tr>\n      <th>2889</th>\n      <td>2019-06-14 10:11:12</td>\n      <td>商品Y</td>\n      <td>2500.0</td>\n      <td>小松季衣</td>\n      <td>201906</td>\n    </tr>\n    <tr>\n      <th>1732</th>\n      <td>2019-02-20 05:22:25</td>\n      <td>商品Y</td>\n      <td>NaN</td>\n      <td>河内さとみ</td>\n      <td>201902</td>\n    </tr>\n    <tr>\n      <th>2090</th>\n      <td>2019-06-13 07:18:45</td>\n      <td>商品Y</td>\n      <td>2500.0</td>\n      <td>大城ケンイチ</td>\n      <td>201906</td>\n    </tr>\n    <tr>\n      <th>2100</th>\n      <td>2019-02-27 01:24:20</td>\n      <td>商品Y</td>\n      <td>2500.0</td>\n      <td>石渡小雁</td>\n      <td>201902</td>\n    </tr>\n    <tr>\n      <th>1878</th>\n      <td>2019-01-29 13:58:57</td>\n      <td>商品Y</td>\n      <td>2500.0</td>\n      <td>西原未華子</td>\n      <td>201901</td>\n    </tr>\n    <tr>\n      <th>2527</th>\n      <td>2019-05-17 18:15:27</td>\n      <td>商品Y</td>\n      <td>2500.0</td>\n      <td>松村聡</td>\n      <td>201905</td>\n    </tr>\n    <tr>\n      <th>2526</th>\n      <td>2019-05-26 10:26:28</td>\n      <td>商品Y</td>\n      <td>2500.0</td>\n      <td>島英嗣</td>\n      <td>201905</td>\n    </tr>\n    <tr>\n      <th>2880</th>\n      <td>2019-04-22 00:36:52</td>\n      <td>商品Y</td>\n      <td>NaN</td>\n      <td>田辺光洋</td>\n      <td>201904</td>\n    </tr>\n    <tr>\n      <th>2881</th>\n      <td>2019-04-30 14:21:09</td>\n      <td>商品Y</td>\n      <td>NaN</td>\n      <td>高原充則</td>\n      <td>201904</td>\n    </tr>\n    <tr>\n      <th>1525</th>\n      <td>2019-01-24 10:27:23</td>\n      <td>商品Y</td>\n      <td>2500.0</td>\n      <td>五十嵐春樹</td>\n      <td>201901</td>\n    </tr>\n    <tr>\n      <th>1361</th>\n      <td>2019-05-28 13:45:32</td>\n      <td>商品Y</td>\n      <td>2500.0</td>\n      <td>大崎ヒカル</td>\n      <td>201905</td>\n    </tr>\n    <tr>\n      <th>3</th>\n      <td>2019-02-12 23:40:45</td>\n      <td>商品Z</td>\n      <td>2600.0</td>\n      <td>麻生莉緒</td>\n      <td>201902</td>\n    </tr>\n  </tbody>\n</table>\n<p>2999 rows × 5 columns</p>\n</div>"
     },
     "metadata": {},
     "execution_count": 16
    }
   ],
   "source": [
    "uriage_data[\"item_name\"] = uriage_data[\"item_name\"].str.upper()\n",
    "uriage_data[\"item_name\"] = uriage_data[\"item_name\"].str.replace(\"  \",\"\")\n",
    "uriage_data[\"item_name\"] = uriage_data[\"item_name\"].str.replace(\" \",\"\")\n",
    "uriage_data.sort_values(by=[\"item_name\"],ascending=True)"
   ]
  },
  {
   "cell_type": "code",
   "execution_count": 18,
   "metadata": {},
   "outputs": [
    {
     "output_type": "stream",
     "name": "stdout",
     "text": "['商品A' '商品S' '商品Z' '商品V' '商品O' '商品U' '商品L' '商品C' '商品I' '商品R' '商品X' '商品G'\n '商品P' '商品Q' '商品Y' '商品N' '商品W' '商品E' '商品K' '商品B' '商品F' '商品D' '商品M' '商品H'\n '商品T' '商品J']\n26\n"
    }
   ],
   "source": [
    "print((pd.unique(uriage_data[\"item_name\"])))\n",
    "print(len(pd.unique(uriage_data[\"item_name\"])))"
   ]
  },
  {
   "cell_type": "markdown",
   "metadata": {},
   "source": [
    "### ノック１５：金額欠損値の補完をしよう"
   ]
  },
  {
   "cell_type": "code",
   "execution_count": null,
   "metadata": {
    "scrolled": true
   },
   "outputs": [],
   "source": []
  },
  {
   "cell_type": "code",
   "execution_count": null,
   "metadata": {
    "scrolled": false
   },
   "outputs": [],
   "source": []
  },
  {
   "cell_type": "code",
   "execution_count": null,
   "metadata": {
    "scrolled": true
   },
   "outputs": [],
   "source": []
  },
  {
   "cell_type": "code",
   "execution_count": null,
   "metadata": {
    "scrolled": false
   },
   "outputs": [],
   "source": []
  },
  {
   "cell_type": "markdown",
   "metadata": {},
   "source": [
    "### ノック１６：顧客名の揺れを補正しよう"
   ]
  },
  {
   "cell_type": "code",
   "execution_count": null,
   "metadata": {},
   "outputs": [],
   "source": []
  },
  {
   "cell_type": "code",
   "execution_count": null,
   "metadata": {},
   "outputs": [],
   "source": []
  },
  {
   "cell_type": "code",
   "execution_count": null,
   "metadata": {},
   "outputs": [],
   "source": []
  },
  {
   "cell_type": "markdown",
   "metadata": {},
   "source": [
    "### ノック１７：日付の揺れを補正しよう"
   ]
  },
  {
   "cell_type": "code",
   "execution_count": null,
   "metadata": {
    "scrolled": true
   },
   "outputs": [],
   "source": []
  },
  {
   "cell_type": "code",
   "execution_count": null,
   "metadata": {
    "scrolled": false
   },
   "outputs": [],
   "source": []
  },
  {
   "cell_type": "code",
   "execution_count": null,
   "metadata": {
    "scrolled": true
   },
   "outputs": [],
   "source": []
  },
  {
   "cell_type": "code",
   "execution_count": null,
   "metadata": {
    "scrolled": true
   },
   "outputs": [],
   "source": []
  },
  {
   "cell_type": "code",
   "execution_count": null,
   "metadata": {
    "scrolled": true
   },
   "outputs": [],
   "source": []
  },
  {
   "cell_type": "code",
   "execution_count": null,
   "metadata": {},
   "outputs": [],
   "source": []
  },
  {
   "cell_type": "markdown",
   "metadata": {},
   "source": [
    "### ノック１８：顧客名をキーに２つのデータを結合(ジョイン)しよう"
   ]
  },
  {
   "cell_type": "code",
   "execution_count": null,
   "metadata": {},
   "outputs": [],
   "source": []
  },
  {
   "cell_type": "markdown",
   "metadata": {},
   "source": [
    "### ノック１９：クレンジングしたデータをダンプしよう"
   ]
  },
  {
   "cell_type": "code",
   "execution_count": null,
   "metadata": {},
   "outputs": [],
   "source": []
  },
  {
   "cell_type": "code",
   "execution_count": null,
   "metadata": {},
   "outputs": [],
   "source": []
  },
  {
   "cell_type": "markdown",
   "metadata": {},
   "source": [
    "### ノック２０：データを集計しよう"
   ]
  },
  {
   "cell_type": "code",
   "execution_count": null,
   "metadata": {
    "scrolled": true
   },
   "outputs": [],
   "source": []
  },
  {
   "cell_type": "code",
   "execution_count": null,
   "metadata": {
    "scrolled": true
   },
   "outputs": [],
   "source": []
  },
  {
   "cell_type": "code",
   "execution_count": null,
   "metadata": {},
   "outputs": [],
   "source": []
  },
  {
   "cell_type": "code",
   "execution_count": null,
   "metadata": {
    "scrolled": false
   },
   "outputs": [],
   "source": []
  },
  {
   "cell_type": "code",
   "execution_count": null,
   "metadata": {
    "scrolled": false
   },
   "outputs": [],
   "source": []
  },
  {
   "cell_type": "code",
   "execution_count": null,
   "metadata": {},
   "outputs": [],
   "source": []
  }
 ],
 "metadata": {
  "kernelspec": {
   "display_name": "Python 3",
   "language": "python",
   "name": "python3"
  },
  "language_info": {
   "codemirror_mode": {
    "name": "ipython",
    "version": 3
   },
   "file_extension": ".py",
   "mimetype": "text/x-python",
   "name": "python",
   "nbconvert_exporter": "python",
   "pygments_lexer": "ipython3",
   "version": "3.7.3-final"
  }
 },
 "nbformat": 4,
 "nbformat_minor": 2
}